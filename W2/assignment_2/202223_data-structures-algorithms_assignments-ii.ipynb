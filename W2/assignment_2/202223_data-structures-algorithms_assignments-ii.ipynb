{
 "cells": [
  {
   "cell_type": "markdown",
   "metadata": {
    "id": "5QVXNJjOyoa4"
   },
   "source": [
    "## Algorithms and Data Structures in Python — Assignment 2 ##\n",
    "\n",
    "The following assignment will test your understanding of topics covered in the first three weeks of the course. This assignment **will count towards your grade** and should be submitted through Canvas by **23.09.2022 at 08:59 (CEST)**. You are required to work and prepare your submissions in groups with 3 students per group. You can get at most 10 points for this assignment, which is 10\\% of your final grade. \n",
    "\n",
    "1. For submission, please rename your notebook as ```{first_student_id}_{second_student_id}_{third_student_id}.ipynb```. For example, submission by students with student ID numbers *11760001*, *11760002* and *11760003* should use the filename ```11760001_11760002_11760003.ipynb```.\n",
    "\n",
    "2. Please follow the function prototype specified in the question for writing your code. The usage of additional functions is acceptable unless the problem expressly prohibits it. If this structure is modified, it may fail automated testing steps.\n",
    "\n",
    "3. All submissions will be checked for code similarity. Submissions with high similarity will be summarily rejected and no points will be awarded.\n",
    "\n",
    "4. Please do NOT use the ```input()``` function in your code. \n",
    "\n",
    "5. For this assignment, the usage of ```numpy``` is **not** allowed.\n",
    "\n",
    "6. For each exercise the correct solution counts for the 80% of the exercise's points, while code style counts for the remaining 20%. Please ensure that docstrings and comments are provided where necessary."
   ]
  },
  {
   "cell_type": "markdown",
   "metadata": {
    "id": "uGkD4On-yj4i"
   },
   "source": [
    "### String Manipulation (3 points) ###\n",
    "\n",
    "In this exercise, you are asked to write a piece of code that can detect the longest substring within a string with non-repeating characters. You will write two functions that decompose this task into two simpler subtasks. The first function ```substrings(s)``` accepts a string ```s``` and returns a list of all constituent substrings.\n",
    "\n",
    "```python\n",
    "def substrings(s):\n",
    "    ...\n",
    "    return list_of_substrings\n",
    "```\n",
    "\n",
    "The second function ```longest_nonrepeating_substring``` accepts a list of substrings and returns the largest substring with non-repeating characters.\n",
    "\n",
    "\n",
    "```python\n",
    "def longest_nonrepeating_substring(l):\n",
    "    ...\n",
    "    return longest_substring\n",
    "```"
   ]
  },
  {
   "cell_type": "code",
   "execution_count": 67,
   "metadata": {
    "id": "BFV3aDw50hiH"
   },
   "outputs": [],
   "source": [
    "# Place your answers here.\n",
    "\n",
    "def contains_only_unique_chars(s: str) -> bool:\n",
    "    \n",
    "    for i, cur_char in enumerate(s):\n",
    "        if (cur_char in s[i + 1:]):\n",
    "            return False\n",
    "    return True\n",
    "\n",
    "def substrings(s: str) -> list:\n",
    "    list_of_substrings = []\n",
    "    str_len = len(s)\n",
    "\n",
    "    for start in range(str_len):\n",
    "        for end in range(start + 1, str_len + 1):\n",
    "            substring = s[start:end]\n",
    "            if (substring not in list_of_substrings):\n",
    "                list_of_substrings.append(substring)\n",
    "    return list_of_substrings\n",
    "    \n",
    "def longest_nonrepeating_substring(l: list) -> str:\n",
    "    \n",
    "    longest_substring = \"\"\n",
    "    \n",
    "    for curr_string in l:\n",
    "        if (contains_only_unique_chars(curr_string) and len(curr_string) > len(longest_substring)):\n",
    "            longest_substring = curr_string\n",
    "            \n",
    "    return longest_substring"
   ]
  },
  {
   "cell_type": "code",
   "execution_count": 68,
   "metadata": {
    "colab": {
     "base_uri": "https://localhost:8080/",
     "height": 255
    },
    "id": "XdPEIuOm0_AJ",
    "outputId": "47295562-853c-429a-cb8f-9670aece9768"
   },
   "outputs": [
    {
     "name": "stdout",
     "output_type": "stream",
     "text": [
      "True\n",
      "True\n"
     ]
    }
   ],
   "source": [
    "# Test code.\n",
    "answer_substrings = substrings(\"Microsoft\")\n",
    "result_substrings = [\n",
    "    \"icr\",\n",
    "    \"ro\",\n",
    "    \"Microso\",\n",
    "    \"ros\",\n",
    "    \"icro\",\n",
    "    \"oft\",\n",
    "    \"cr\",\n",
    "    \"Micro\",\n",
    "    \"ic\",\n",
    "    \"f\",\n",
    "    \"o\",\n",
    "    \"Mic\",\n",
    "    \"osof\",\n",
    "    \"soft\",\n",
    "    \"sof\",\n",
    "    \"rosoft\",\n",
    "    \"t\",\n",
    "    \"ft\",\n",
    "    \"icroso\",\n",
    "    \"icrosof\",\n",
    "    \"cros\",\n",
    "    \"icrosoft\",\n",
    "    \"icros\",\n",
    "    \"M\",\n",
    "    \"crosof\",\n",
    "    \"osoft\",\n",
    "    \"Micr\",\n",
    "    \"roso\",\n",
    "    \"crosoft\",\n",
    "    \"Microsoft\",\n",
    "    \"Mi\",\n",
    "    \"so\",\n",
    "    \"rosof\",\n",
    "    \"of\",\n",
    "    \"croso\",\n",
    "    \"s\",\n",
    "    \"os\",\n",
    "    \"cro\",\n",
    "    \"c\",\n",
    "    \"Micros\",\n",
    "    \"i\",\n",
    "    \"r\",\n",
    "    \"oso\",\n",
    "    \"Microsof\",\n",
    "]\n",
    "answer_longest = \"Micros\"\n",
    "result_longest = longest_nonrepeating_substring(result_substrings)\n",
    "\n",
    "print(\n",
    "    (\n",
    "        len(result_substrings) == len(answer_substrings)\n",
    "        and all([r in answer_substrings for r in result_substrings])\n",
    "    )\n",
    ")  # --> Expects True\n",
    "print(result_longest == answer_longest)  # --> Expects True"
   ]
  },
  {
   "cell_type": "markdown",
   "metadata": {
    "id": "w8B0mVcq7-Hc"
   },
   "source": [
    "### Mathematical series (3 points)\n",
    "\n",
    "In this exercise, you are asked to compute an approximation for the natural logarithm of 2 (a mathematical constant) using the following infinite sum.\n",
    "\n",
    "$\\sum_{k=1}^∞ \\frac{1}{3^kk} + \\frac{1}{4^kk} = \\bigl(\\frac{1}{3} + \\frac{1}{4}\\bigr) + \\bigl(\\frac{1}{18} + \\frac{1}{32}\\bigr) + \\bigl(\\frac{1}{81} + \\frac{1}{192}\\bigr) + \\ldots = ln2$\n",
    "\n",
    "Since you cannot numerically compute a sum over infinite terms numerically, you will replace the $\\infty$ term with a sufficiently large number ```n```. The series then takes the form:\n",
    "\n",
    "$\\sum_{k=1}^N \\frac{1}{3^kk} + \\frac{1}{4^kk} = \\bigl(\\frac{1}{3} + \\frac{1}{4}\\bigr) + \\bigl(\\frac{1}{18} + \\frac{1}{32}\\bigr) + \\bigl(\\frac{1}{81} + \\frac{1}{192}\\bigr) + \\ldots \\approx ln2$\n",
    "\n",
    "You are asked to providea function ```ln2_approximation(N)``` that computes this sum for ```N``` terms. The results, for large values of ```N```, should approach the true value of the natural logarithm of 2. The function specification takes the following form:\n",
    "\n",
    "```python\n",
    "def ln2_approximation(N):\n",
    "    ...\n",
    "    return ln2_approximate_value\n",
    "```\n",
    "\n",
    "For reference, ln2 $\\approx$ 0.6931471805599453. For this exercise, the usage of math module is allowed."
   ]
  },
  {
   "cell_type": "code",
   "execution_count": null,
   "metadata": {
    "id": "jm0aXh_d1Bbi"
   },
   "outputs": [],
   "source": [
    "def ln2_approximation(N):\n",
    "    ...\n",
    "    return ln2_approximate_value"
   ]
  },
  {
   "cell_type": "code",
   "execution_count": null,
   "metadata": {},
   "outputs": [],
   "source": [
    "# Test Code. Do not modify.\n",
    "import math\n",
    "print(math.isclose(ln2_approximation(100), 0.6931471, abs_tol=1e-6))"
   ]
  },
  {
   "cell_type": "markdown",
   "metadata": {
    "id": "TXgbOc002y66"
   },
   "source": [
    "### Roman numerals (4 points)\n",
    "\n",
    "Roman numerals are a system of numeration that originated in ancient Rome. In this exercise you will implement a converter from Roman numerals to their corresponding decimal value. There are several variations of Roman numerals. In this exercise you should always assume the following rules:\n",
    "\n",
    "*   The Roman numeral is represented by a string of symbols as seen in the table below.\n",
    "\n",
    "*   The value of the Roman numeral is equal to the sum of all symbols in the string, unless the following subtraction rule applies.\n",
    "\n",
    "*  The subtraction rule applies to a symbol if it is followed by a larger value. In this case the value of the symbol is not added to the sum, but subtracted, e.g.\n",
    "  - IV = 4, the subtraction rule applies to I because it is followed by X.\n",
    "  - IIV = 5, the subtraction rule applies to the second I because it is followed by X, but not to the first I because it is followed by another I. \n",
    "\n",
    "Note: You are required to strictly follow to above mentioned specifications even if they allow Roman numerals that might be considered invalid or wrong under different rules, e.g IIIII = IIV = V.\n",
    "\n",
    "\n",
    "<center>\n",
    "\n",
    "| Symbol | I | V | X  | L  | C   | D   | M    |\n",
    "|--------|---|---|----|----|-----|-----|------|\n",
    "| Value  | 1 | 5 | 10 | 50 | 100 | 500 | 1000 |\n",
    "\n",
    "</center>\n",
    "\n",
    "You should write a program with the following functionality:\n",
    "\n",
    "1. A function named ```symbol_to_value``` which takes as an input a single symbol and returns its respective decimal value, e.g.\n",
    "```python\n",
    ">>> symbol_to_value('V')\n",
    "5\n",
    ">>> symbol_to_value('M')\n",
    "1000\n",
    "```\n",
    "\n",
    "2. A function named ```roman_to_value```, which takes a string with symbols and returns the sum of their decimal values, and an argument ```ignore_sub_rule``` for the following two rules:\n",
    "\n",
    "    2.1. Ignoring the subtraction rule, e.g.\n",
    "```python\n",
    ">>>roman_to_value('VVV', ignore_sub_rule=True)\n",
    "15\n",
    ">>>roman_to_value('XVX', ignore_sub_rule=True)\n",
    "25 \n",
    "```\n",
    "    2.2. Respecting the subtraction rule, .e.\n",
    "```python\n",
    ">>>roman_to_value('VVV', ignore_sub_rule=False)\n",
    "15\n",
    ">>>roman_to_value('XVX', ignore_sub_rule=False)\n",
    "15 \n",
    "```\n",
    "\n",
    "\n"
   ]
  },
  {
   "cell_type": "code",
   "execution_count": null,
   "metadata": {
    "id": "hnGhgIyIFncJ"
   },
   "outputs": [],
   "source": [
    "def symbol_to_value(c):\n",
    "    ...\n",
    "    return symbol_decimal_value\n",
    "\n",
    "\n",
    "def roman_to_value(roman, ignore_sub_rule = False):\n",
    "    ...\n",
    "    return roman_decimal_value"
   ]
  }
 ],
 "metadata": {
  "colab": {
   "collapsed_sections": [],
   "provenance": []
  },
  "kernelspec": {
   "display_name": "Python 3 (ipykernel)",
   "language": "python",
   "name": "python3"
  },
  "language_info": {
   "codemirror_mode": {
    "name": "ipython",
    "version": 3
   },
   "file_extension": ".py",
   "mimetype": "text/x-python",
   "name": "python",
   "nbconvert_exporter": "python",
   "pygments_lexer": "ipython3",
   "version": "3.9.7"
  },
  "toc": {
   "base_numbering": 1,
   "nav_menu": {},
   "number_sections": true,
   "sideBar": true,
   "skip_h1_title": false,
   "title_cell": "Table of Contents",
   "title_sidebar": "Contents",
   "toc_cell": false,
   "toc_position": {},
   "toc_section_display": true,
   "toc_window_display": false
  }
 },
 "nbformat": 4,
 "nbformat_minor": 1
}
